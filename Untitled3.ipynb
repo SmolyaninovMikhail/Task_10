{
  "nbformat": 4,
  "nbformat_minor": 0,
  "metadata": {
    "colab": {
      "provenance": [],
      "authorship_tag": "ABX9TyNQ8G1qEpNyEy4VcnqF/kh6",
      "include_colab_link": true
    },
    "kernelspec": {
      "name": "python3",
      "display_name": "Python 3"
    },
    "language_info": {
      "name": "python"
    }
  },
  "cells": [
    {
      "cell_type": "markdown",
      "metadata": {
        "id": "view-in-github",
        "colab_type": "text"
      },
      "source": [
        "<a href=\"https://colab.research.google.com/github/SmolyaninovMikhail/Task_10/blob/main/Untitled3.ipynb\" target=\"_parent\"><img src=\"https://colab.research.google.com/assets/colab-badge.svg\" alt=\"Open In Colab\"/></a>"
      ]
    },
    {
      "cell_type": "code",
      "source": [
        "import random"
      ],
      "metadata": {
        "id": "SRZ9PbvTVOCU"
      },
      "execution_count": 12,
      "outputs": []
    },
    {
      "cell_type": "code",
      "source": [
        "import pandas as pd"
      ],
      "metadata": {
        "id": "EcqVmA-yVWIB"
      },
      "execution_count": 13,
      "outputs": []
    },
    {
      "cell_type": "code",
      "source": [
        "lst = ['robot'] * 10\n",
        "lst += ['human'] * 10\n",
        "random.shuffle(lst)"
      ],
      "metadata": {
        "id": "FhPaJT7DVYcZ"
      },
      "execution_count": 14,
      "outputs": []
    },
    {
      "cell_type": "code",
      "source": [
        "data = pd.DataFrame({'whoAmI': lst})"
      ],
      "metadata": {
        "id": "L2duzIFnVcX1"
      },
      "execution_count": 15,
      "outputs": []
    },
    {
      "cell_type": "code",
      "source": [
        "unique_values = data['whoAmI'].unique()"
      ],
      "metadata": {
        "id": "IYsWqIseVd5L"
      },
      "execution_count": 16,
      "outputs": []
    },
    {
      "cell_type": "code",
      "source": [
        "one_hot = pd.DataFrame(index=data.index, columns=unique_values)"
      ],
      "metadata": {
        "id": "jHq2f4rAVfbN"
      },
      "execution_count": 17,
      "outputs": []
    },
    {
      "cell_type": "code",
      "source": [
        "for value in unique_values:\n",
        "    one_hot[value] = (data['whoAmI'] == value).astype(int)"
      ],
      "metadata": {
        "id": "zoeswLFQVhP_"
      },
      "execution_count": 18,
      "outputs": []
    },
    {
      "cell_type": "code",
      "source": [
        "print(one_hot)"
      ],
      "metadata": {
        "colab": {
          "base_uri": "https://localhost:8080/"
        },
        "id": "0mXzZvNeVjV4",
        "outputId": "53e83002-4c8a-4ad7-b47d-dde486063de5"
      },
      "execution_count": 19,
      "outputs": [
        {
          "output_type": "stream",
          "name": "stdout",
          "text": [
            "    robot  human\n",
            "0       1      0\n",
            "1       1      0\n",
            "2       0      1\n",
            "3       1      0\n",
            "4       0      1\n",
            "5       0      1\n",
            "6       0      1\n",
            "7       1      0\n",
            "8       0      1\n",
            "9       1      0\n",
            "10      1      0\n",
            "11      1      0\n",
            "12      0      1\n",
            "13      1      0\n",
            "14      1      0\n",
            "15      0      1\n",
            "16      1      0\n",
            "17      0      1\n",
            "18      0      1\n",
            "19      0      1\n"
          ]
        }
      ]
    }
  ]
}